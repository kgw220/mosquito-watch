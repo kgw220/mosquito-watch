{
 "cells": [
  {
   "cell_type": "markdown",
   "id": "a8d231c9",
   "metadata": {},
   "source": [
    "Data comes from the source here: \n",
    "https://data.cityofchicago.org/Health-Human-Services/West-Nile-Virus-WNV-Mosquito-Test-Results/jqe8-8r6s/about_data\n",
    "\n",
    "This dataset tracks the presence of West Nile Virus* (WNV) in mosquito populations across Chicago. \n",
    "Traps were placed around Chicago to help track the amount of mosquitoes in different areas.\n",
    "They are then grouped into pools, and tested in a lab to determine if any in the group carry WNV. \n",
    "Each row represents one test of a mosquito pool from a specific trap on a specific date, with \n",
    "results indicating whether WNV was detected. This surveillance data helps public health officials \n",
    "monitor mosquito-borne virus activity, assess risk to humans, and guide mosquito control efforts.\n",
    "\n",
    "Ideally, the main goal is to build an accurate predictive model to help predict when there are \n",
    "spikes in WNV based on the historical data gathered thus far, which can help city officials more \n",
    "efficiently and effectively allocate resources towards preventing transmission of this potentially \n",
    "deadly virus.\n",
    "\n",
    "\n",
    "*West Nile Virus (WNV) is an infectious disease that was discovered in 1937 in the West Nile region \n",
    "of Uganda. It started spreading to the United States in 1999, via infected mosquitos. Most people\n",
    "who are infected do not have symptoms (at least initially), but some do; Said symptoms include\n",
    "fever, headaches, body aches, and skin rashes. In rare circumstances, WNV can be life-threatening \n",
    "if it enters the brain, causing Encephalitis (inflammation to the brain). Unfortunately there are no\n",
    "vaccines or treatments available, so the best way way to prevent getting WNV is to avoid mosquito \n",
    "bites altogether.\n",
    "\n",
    "The City of Chicago and the Chicago Public Health Department (CPHD) have resorted to spraying areas \n",
    "when WNV is detected to kill the infected mosquites and prevent the virus' spread. "
   ]
  },
  {
   "cell_type": "code",
   "execution_count": null,
   "id": "ce167b41",
   "metadata": {},
   "outputs": [],
   "source": [
    "# Library imports\n",
    "import pandas as pd\n",
    "import matplotlib.pyplot as plt\n",
    "import seaborn as sns\n",
    "import numpy as np\n",
    "import re\n",
    "import requests\n",
    "import time\n",
    "\n",
    "from matplotlib import cm\n",
    "from sklearn import preprocessing, tree, ensemble, linear_model, metrics, model_selection, svm\n",
    "from sodapy import Socrata\n",
    "\n",
    "%matplotlib inline\n"
   ]
  },
  {
   "cell_type": "markdown",
   "id": "7ccca557",
   "metadata": {},
   "source": [
    "Below, I get the mosquito trap data from Chicago's Open Data API."
   ]
  },
  {
   "cell_type": "code",
   "execution_count": null,
   "id": "f6bde76c",
   "metadata": {},
   "outputs": [
    {
     "name": "stderr",
     "output_type": "stream",
     "text": [
      "WARNING:root:Requests made without an app_token will be subject to strict throttling limits.\n"
     ]
    }
   ],
   "source": [
    "# TODO: Pull new data from API and see how results differ. \n",
    "# TODO: Check if data format changes. API states that data may be formatted differently in the \n",
    "# future.\n",
    "\n",
    "# Define client to access the City of Chicago's Open Data API\n",
    "client = Socrata(\"data.cityofchicago.org\", None)\n",
    "\n",
    "# Get data from API, limit of first 50k records (returned as a list of dictionaries)\n",
    "# String parameter is the dataset identifier based on the URL\n",
    "# https://data.cityofchicago.org/Health-Human-Services/West-Nile-Virus-WNV-Mosquito-Test-Results/jqe8-8r6s/about_data\n",
    "results = client.get(\"jqe8-8r6s\", limit=50000)\n",
    "\n",
    "# Convert to pandas DataFrame\n",
    "results_df = pd.DataFrame.from_records(results)\n",
    "\n",
    "# Having issues with weather data beyond 2014, so data is limited to before 2015\n",
    "results_df['date'] = pd.to_datetime(results_df['date'])\n",
    "\n",
    "# Subset for dates before 2014\n",
    "results_df = results_df[results_df['date'] < '2015-01-01']\n",
    "\n",
    "# For convienence, save a static copy (to ensure data stays the same throughout my work on this \n",
    "# project). But ideally, it would be best to automatically pull the latest data from the API.\n",
    "results_df.to_pickle(\"../data/mosquito_data.pkl\")"
   ]
  },
  {
   "cell_type": "code",
   "execution_count": null,
   "id": "2803853e",
   "metadata": {},
   "outputs": [],
   "source": [
    "# Retrieve the static copy of the mosquito trap data\n",
    "mosquito_data = pd.read_pickle(\"../data/mosquito_data.pkl\")"
   ]
  },
  {
   "cell_type": "markdown",
   "id": "1f7d15f3",
   "metadata": {},
   "source": [
    "Below, I get associated weather/spray data for the Chicago area. However, I had issues with getting\n",
    "the right data from an API connection, so I ended up just saving the data manually, specifically \n",
    "bewteen 2007 and 2014, when available."
   ]
  },
  {
   "cell_type": "code",
   "execution_count": null,
   "id": "99332e0f",
   "metadata": {},
   "outputs": [],
   "source": [
    "# TODO: Retrieve weather data from NOAA API, and spray data from GIS API\n",
    "\n",
    "# Data from https://www.ncdc.noaa.gov/cdo-web/datatools/findstation, for Chicago O'Hare and Midway\n",
    "# TODO: Put this in readme, not here\n",
    "weather_data = pd.read_pickle(\"../data/weather.pkl\")\n",
    "spray_data = pd.read_pickle(\"../data/spray.pkl\")"
   ]
  }
 ],
 "metadata": {
  "kernelspec": {
   "display_name": "Python 3",
   "language": "python",
   "name": "python3"
  },
  "language_info": {
   "codemirror_mode": {
    "name": "ipython",
    "version": 3
   },
   "file_extension": ".py",
   "mimetype": "text/x-python",
   "name": "python",
   "nbconvert_exporter": "python",
   "pygments_lexer": "ipython3",
   "version": "3.13.3"
  }
 },
 "nbformat": 4,
 "nbformat_minor": 5
}
