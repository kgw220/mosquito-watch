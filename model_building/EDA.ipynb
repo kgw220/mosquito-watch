{
 "cells": [
  {
   "cell_type": "markdown",
   "id": "a8d231c9",
   "metadata": {},
   "source": [
    "Data comes from the source here: \n",
    "https://data.cityofchicago.org/Health-Human-Services/West-Nile-Virus-WNV-Mosquito-Test-Results/\n",
    "jqe8-8r6s/about_data\n",
    "\n",
    "This dataset tracks the presence of West Nile Virus* (WNV) in mosquito populations across Chicago. \n",
    "Traps were placed around Chicago to help track the amount of mosquitoes in different areas.\n",
    "They are then grouped into pools, and tested in a lab to determine if any in the group carry WNV. \n",
    "Each row represents one test of a mosquito pool from a specific trap on a specific date, with \n",
    "results indicating whether WNV was detected. This surveillance data helps public health officials \n",
    "monitor mosquito-borne virus activity, assess risk to humans, and guide mosquito control efforts.\n",
    "\n",
    "Ideally, the main goal is to build an accurate predictive model to help predict when there are \n",
    "spikes in WNV based on the historical data gathered thus far, which can help city officials more \n",
    "efficiently and effectively allocate resources towards preventing transmission of this potentially \n",
    "deadly virus.\n",
    "\n",
    "\n",
    "*West Nile Virus (WNV) is an infectious disease that was discovered in 1937 in the West Nile region \n",
    "of Uganda. It started spreading to the United States in 1999, via infected mosquitos. Most people\n",
    "who are infected do not have symptoms (at least initially), but some do; Said symptoms include\n",
    "fever, headaches, body aches, and skin rashes. In rare circumstances, WNV can be life-threatening \n",
    "if it enters the brain, causing Encephalitis (inflammation to the brain). Unfortunately there are no\n",
    "vaccines or treatments available, so the best way way to prevent getting WNV is to avoid mosquito \n",
    "bites altogether.\n",
    "\n",
    "The City of Chicago and the Chicago Public Health Department (CPHD) have resorted to spraying areas \n",
    "when WNV is detected to kill the infected mosquites and prevent the virus' spread. "
   ]
  },
  {
   "cell_type": "code",
   "execution_count": 4,
   "id": "ce167b41",
   "metadata": {},
   "outputs": [],
   "source": [
    "import pandas as pd\n",
    "import matplotlib.pyplot as plt\n",
    "import seaborn as sns\n",
    "import numpy as np\n",
    "import re\n",
    "\n",
    "from matplotlib import cm\n",
    "from sklearn import preprocessing, tree, ensemble, linear_model, metrics, model_selection, svm\n",
    "\n",
    "%matplotlib inline"
   ]
  },
  {
   "cell_type": "code",
   "execution_count": 5,
   "id": "f6bde76c",
   "metadata": {},
   "outputs": [],
   "source": [
    "# TODO: Connect with the City of Chicago API to dynamically fetch data, but this may be difficult\n",
    "# since the limit is 1000 rows, but the dataset is over 41,000 rows.\n",
    "# Data up to ~6/10/2025\n",
    "mosquito_data = pd.read_csv(\"../data/mosquito_data.csv\")"
   ]
  }
 ],
 "metadata": {
  "kernelspec": {
   "display_name": "Python 3",
   "language": "python",
   "name": "python3"
  },
  "language_info": {
   "codemirror_mode": {
    "name": "ipython",
    "version": 3
   },
   "file_extension": ".py",
   "mimetype": "text/x-python",
   "name": "python",
   "nbconvert_exporter": "python",
   "pygments_lexer": "ipython3",
   "version": "3.13.3"
  }
 },
 "nbformat": 4,
 "nbformat_minor": 5
}
